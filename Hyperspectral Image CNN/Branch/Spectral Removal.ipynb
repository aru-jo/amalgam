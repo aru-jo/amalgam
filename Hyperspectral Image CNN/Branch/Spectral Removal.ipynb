{
 "cells": [
  {
   "cell_type": "markdown",
   "metadata": {},
   "source": [
    "## Import statements and Load Spatially Minimised Array"
   ]
  },
  {
   "cell_type": "code",
   "execution_count": 5,
   "metadata": {
    "collapsed": true
   },
   "outputs": [],
   "source": [
    "import numpy as np \n",
    "loaded_cut = np.load('cutarray.npy')\n",
    "png_cut = np.load('cutGT.npy')\n",
    "input_mat = np.load('Input.npy')\n",
    "max_rows_index = loaded_cut.shape[0]\n",
    "max_column_index = loaded_cut.shape[1]\n",
    "max_spectral_index = loaded_cut.shape[2]"
   ]
  },
  {
   "cell_type": "markdown",
   "metadata": {},
   "source": [
    "## Define Function to Remove Irrelevant Spectral Bands [Absorption]"
   ]
  },
  {
   "cell_type": "markdown",
   "metadata": {},
   "source": [
    "The Methane Absorption Spectra lies in the range of 7.5-8 micron, however HyTES images have wavelengths from 7.5-12 micron. The irrelevant spectral bands are now removed. "
   ]
  },
  {
   "cell_type": "code",
   "execution_count": 6,
   "metadata": {
    "collapsed": true
   },
   "outputs": [],
   "source": [
    "loaded_cut = remove_bands(0,64)\n",
    "max_spectral_index = loaded_cut.shape[2]"
   ]
  },
  {
   "cell_type": "code",
   "execution_count": 7,
   "metadata": {
    "collapsed": true
   },
   "outputs": [],
   "source": [
    "def remove_bands(X,Y):\n",
    "    mask = list(range(X, Y))\n",
    "    REM_ARRAY = np.delete(loaded_cut, mask, 2)\n",
    "    return REM_ARRAY"
   ]
  },
  {
   "cell_type": "markdown",
   "metadata": {},
   "source": [
    "## Define Function to Remove Irrlevant Spectral Bands [Correlation]"
   ]
  },
  {
   "cell_type": "code",
   "execution_count": 8,
   "metadata": {
    "collapsed": true
   },
   "outputs": [],
   "source": [
    "def correlation_coefficient(T1, T2):\n",
    "    numerator = np.mean((T1 - T1.mean()) * (T2 - T2.mean()))\n",
    "    denominator = T1.std() * T2.std()\n",
    "    if denominator == 0:\n",
    "        return 0\n",
    "    else:\n",
    "        result = numerator / denominator\n",
    "        return result"
   ]
  },
  {
   "cell_type": "code",
   "execution_count": 9,
   "metadata": {
    "collapsed": true
   },
   "outputs": [],
   "source": [
    "#loaded_cut = loaded_cut.transpose(2,0,1).reshape(1,(max_rows_index+1)*(max_column_index+1))\n",
    "threshold = 0.70\n",
    "mask = list(range(187,193))\n",
    "for band_i in range(0,max_spectral_index):\n",
    "    band_j = band_i+1\n",
    "    cf = correlation_coefficient(loaded_cut[band_i],loaded_cut[band_j])\n",
    "    if(cf>=threshold):\n",
    "        mask.append(cf)\n",
    "loaded_cut = remove_bands(int(mask[0]),int(mask[6]))"
   ]
  },
  {
   "cell_type": "code",
   "execution_count": 10,
   "metadata": {
    "collapsed": true
   },
   "outputs": [],
   "source": [
    "np.save('Input.npy',loaded_cut)"
   ]
  },
  {
   "cell_type": "code",
   "execution_count": null,
   "metadata": {
    "collapsed": true
   },
   "outputs": [],
   "source": []
  }
 ],
 "metadata": {
  "kernelspec": {
   "display_name": "Python 3",
   "language": "python",
   "name": "python3"
  },
  "language_info": {
   "codemirror_mode": {
    "name": "ipython",
    "version": 3
   },
   "file_extension": ".py",
   "mimetype": "text/x-python",
   "name": "python",
   "nbconvert_exporter": "python",
   "pygments_lexer": "ipython3",
   "version": "3.6.3"
  }
 },
 "nbformat": 4,
 "nbformat_minor": 2
}
