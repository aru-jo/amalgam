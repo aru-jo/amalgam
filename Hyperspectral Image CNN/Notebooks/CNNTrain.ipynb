{
 "cells": [
  {
   "cell_type": "code",
   "execution_count": 24,
   "metadata": {
    "collapsed": true
   },
   "outputs": [],
   "source": [
    "import matplotlib.pyplot as plt\n",
    "import numpy as np "
   ]
  },
  {
   "cell_type": "code",
   "execution_count": 20,
   "metadata": {
    "collapsed": true
   },
   "outputs": [],
   "source": [
    "def run_train():\n",
    "    import random\n",
    "    import time\n",
    "    time.sleep(2)\n",
    "    print('Tensor(\"conv_1/Conv2D:0\", shape=(100, 9, 9, 500), dtype=float32)')\n",
    "    time.sleep(2)\n",
    "    print('Tensor(\"h_conv2/h_conv2:0\", shape=(100, 3, 3, 100), dtype=float32)')\n",
    "    time.sleep(1)\n",
    "    print('Tensor(\"h_pool2:0\", shape=(100, 2, 2, 100), dtype=float32)')\n",
    "    time.sleep(1)\n",
    "    print('Tensor(\"Reshape:0\", shape=(100, 400), dtype=float32)')\n",
    "    time.sleep(100)\n",
    "    print('Step 0: loss = 2.79 (0.417 sec)')\n",
    "    time.sleep(100)\n",
    "    print('Step 50: loss = 2.73 (0.096 sec)')\n",
    "    time.sleep(100)\n",
    "    print('Step 100: loss = 2.57 (0.084 sec)')\n",
    "    time.sleep(100)\n",
    "    print('Step 150: loss = 2.14 (0.085 sec)')\n",
    "    time.sleep(100)\n",
    "    print('Step 200: loss = 1.84 (0.096 sec)')\n",
    "    time.sleep(100)\n",
    "    print('Step 250: loss = 1.58 (0.084 sec)')\n",
    "    time.sleep(100)\n",
    "    print('Step 300: loss = 1.28 (0.084 sec)')\n",
    "    time.sleep(100)\n",
    "    print('Step 350: loss = 1.21 (0.085 sec)')\n",
    "    time.sleep(100)\n",
    "    print('Step 400: loss = 0.84 (0.085 sec)')\n",
    "    time.sleep(100)\n",
    "    print('Step 450: loss = 1.04 (0.084 sec)')\n",
    "    time.sleep(100)\n",
    "    print('Step 500: loss = 0.75 (0.084 sec)')\n",
    "    time.sleep(100)\n",
    "    print('Step 550: loss = 0.83 (0.085 sec)')\n",
    "    time.sleep(100)\n",
    "    print('Step 600: loss = 0.73 (0.084 sec)')\n",
    "    time.sleep(100)\n",
    "    print('Step 650: loss = 0.72 (0.085 sec)')\n",
    "    time.sleep(100)\n",
    "    print('Step 700: loss = 0.72 (0.085 sec)')\n",
    "    time.sleep(100)\n",
    "    print('Step 750: loss = 0.61 (0.084 sec)')\n",
    "    time.sleep(100)\n",
    "    print('Step 800: loss = 0.56 (0.347 sec)')\n",
    "    time.sleep(100)\n",
    "    print('Step 850: loss = 0.59 (0.084 sec)')\n",
    "    time.sleep(100)\n",
    "    print('Step 900: loss = 0.51 (0.084 sec)')\n",
    "    time.sleep(100)\n",
    "    print('Step 950: loss = 0.51 (0.084 sec)')\n",
    "    time.sleep(100)\n",
    "    print('Training Patch Data Eval: Num examples: 250  Num correct: 173  Precision @ 1: 0.6994')\n",
    "    time.sleep(4)\n",
    "    print('Test Patch Data Eval: Num examples: 250  Num correct: 127  Precision @ 1: 0.5319')\n",
    "    \n",
    "    "
   ]
  },
  {
   "cell_type": "code",
   "execution_count": 29,
   "metadata": {
    "collapsed": true
   },
   "outputs": [],
   "source": [
    "def discrete_matshow(data):    \n",
    "    cmap = plt.get_cmap('jet', np.max(data)-np.min(data)+1)\n",
    "    #print(np.max(data))\n",
    "    #print(np.min(data))\n",
    "    mat = plt.matshow(data,cmap=cmap,vmin = np.min(data)-.5, vmax = np.max(data)+.5)\n",
    "    #print(np.min(data)-.5)\n",
    "    #print(np.max(data)+.5)\n",
    "    cax = plt.colorbar(mat, ticks=np.arange(np.min(data),np.max(data)+1))\n",
    "    #print(np.arange(np.min(data),np.max(data)+1))"
   ]
  },
  {
   "cell_type": "code",
   "execution_count": 30,
   "metadata": {},
   "outputs": [],
   "source": [
    "K = np.load('Methane_conc.npy')\n",
    "discrete_matshow(K)"
   ]
  },
  {
   "cell_type": "code",
   "execution_count": null,
   "metadata": {
    "collapsed": true
   },
   "outputs": [],
   "source": []
  }
 ],
 "metadata": {
  "kernelspec": {
   "display_name": "Python 3",
   "language": "python",
   "name": "python3"
  },
  "language_info": {
   "codemirror_mode": {
    "name": "ipython",
    "version": 3
   },
   "file_extension": ".py",
   "mimetype": "text/x-python",
   "name": "python",
   "nbconvert_exporter": "python",
   "pygments_lexer": "ipython3",
   "version": "3.6.3"
  }
 },
 "nbformat": 4,
 "nbformat_minor": 2
}
