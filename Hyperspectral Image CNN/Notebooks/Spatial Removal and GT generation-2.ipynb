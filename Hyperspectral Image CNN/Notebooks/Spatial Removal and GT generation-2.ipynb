{
 "cells": [
  {
   "cell_type": "markdown",
   "metadata": {},
   "source": [
    "## Import Statements"
   ]
  },
  {
   "cell_type": "code",
   "execution_count": 1,
   "metadata": {
    "collapsed": true
   },
   "outputs": [],
   "source": [
    "import pysptools.util as util\n",
    "import pandas as pd\n",
    "import matplotlib.pyplot as plt\n",
    "from spectral import *\n",
    "import numpy as np\n",
    "import pysptools.eea as eea\n",
    "import spectral.io.envi as envi\n",
    "import pysptools.eea as eea\n",
    "import pysptools.abundance_maps as amp\n",
    "import pysptools.classification as cls\n",
    "import pysptools.noise as ns\n",
    "import pysptools.skl as skl\n",
    "import timeit"
   ]
  },
  {
   "cell_type": "code",
   "execution_count": 2,
   "metadata": {
    "collapsed": true
   },
   "outputs": [],
   "source": [
    "im = plt.imread('methane.png')"
   ]
  },
  {
   "cell_type": "markdown",
   "metadata": {},
   "source": [
    "![title](methane.png)"
   ]
  },
  {
   "cell_type": "markdown",
   "metadata": {},
   "source": [
    "## Import data"
   ]
  },
  {
   "cell_type": "code",
   "execution_count": 4,
   "metadata": {
    "collapsed": true
   },
   "outputs": [],
   "source": [
    "data_file = r'C:\\Users\\Dr.RSK\\Desktop\\Hyperspectral-CNN\\AlisoCanyon1\\aliso1.hdr'\n",
    "data, header = util.load_ENVI_file(data_file)"
   ]
  },
  {
   "cell_type": "markdown",
   "metadata": {},
   "source": [
    "## Dimesnsions before Spatial Removal"
   ]
  },
  {
   "cell_type": "code",
   "execution_count": 111,
   "metadata": {},
   "outputs": [
    {
     "data": {
      "text/plain": [
       "(5120, 512, 256)"
      ]
     },
     "execution_count": 111,
     "metadata": {},
     "output_type": "execute_result"
    }
   ],
   "source": [
    "data.shape"
   ]
  },
  {
   "cell_type": "markdown",
   "metadata": {},
   "source": [
    "## Ground Truth  "
   ]
  },
  {
   "cell_type": "code",
   "execution_count": 44,
   "metadata": {
    "collapsed": true
   },
   "outputs": [],
   "source": [
    "import h5py\n",
    "import numpy as np"
   ]
  },
  {
   "cell_type": "code",
   "execution_count": 45,
   "metadata": {
    "collapsed": true
   },
   "outputs": [],
   "source": [
    "f = h5py.File('2016-01-26.233621.AlisoCanyonNELow.Line7-Run3-Segment01.L3-CMF.hdf5','r')"
   ]
  },
  {
   "cell_type": "code",
   "execution_count": 46,
   "metadata": {
    "collapsed": true
   },
   "outputs": [],
   "source": [
    "def keys(f):\n",
    "    return [key for key in f.keys()]"
   ]
  },
  {
   "cell_type": "code",
   "execution_count": 47,
   "metadata": {},
   "outputs": [
    {
     "data": {
      "text/plain": [
       "['CH4', 'H2S', 'NH3']"
      ]
     },
     "execution_count": 47,
     "metadata": {},
     "output_type": "execute_result"
    }
   ],
   "source": [
    "keys(f)"
   ]
  },
  {
   "cell_type": "code",
   "execution_count": 48,
   "metadata": {},
   "outputs": [
    {
     "data": {
      "text/plain": [
       "[('CH4_CMF1', <HDF5 dataset \"CH4_CMF1\": shape (5120, 512), type \"<f4\">),\n",
       " ('CH4_CMF2', <HDF5 dataset \"CH4_CMF2\": shape (5120, 512), type \"<f4\">)]"
      ]
     },
     "execution_count": 48,
     "metadata": {},
     "output_type": "execute_result"
    }
   ],
   "source": [
    "CMF = f['CH4']\n",
    "list(CMF.items())"
   ]
  },
  {
   "cell_type": "code",
   "execution_count": 49,
   "metadata": {
    "collapsed": true
   },
   "outputs": [],
   "source": [
    "CMF1 = f['/CH4/CH4_CMF1'].value\n",
    "CMF2 = f['/CH4/CH4_CMF2'].value"
   ]
  },
  {
   "cell_type": "code",
   "execution_count": 50,
   "metadata": {
    "collapsed": true
   },
   "outputs": [],
   "source": [
    "for i in range(0,CMF2.shape[0]):\n",
    "    for j in range(0,CMF2.shape[1]):\n",
    "        if(CMF2[i][j]!=0.0):\n",
    "            CMF2[i][j]=1"
   ]
  },
  {
   "cell_type": "code",
   "execution_count": 52,
   "metadata": {
    "collapsed": true
   },
   "outputs": [],
   "source": [
    "np.save('CMF2.npy',CMF2)"
   ]
  },
  {
   "cell_type": "code",
   "execution_count": 51,
   "metadata": {},
   "outputs": [
    {
     "data": {
      "text/plain": [
       "(5120, 512)"
      ]
     },
     "execution_count": 51,
     "metadata": {},
     "output_type": "execute_result"
    }
   ],
   "source": [
    "CMF2.shape"
   ]
  },
  {
   "cell_type": "markdown",
   "metadata": {},
   "source": [
    "## Reflectance values for all pixels across all spectral bands"
   ]
  },
  {
   "cell_type": "code",
   "execution_count": 123,
   "metadata": {},
   "outputs": [
    {
     "name": "stdout",
     "output_type": "stream",
     "text": [
      "[[[6.30456   6.47104   6.44008   ... 7.1713943 7.226754  7.367842 ]\n",
      "  [6.366256  6.382112  6.322816  ... 7.3618956 7.1772556 7.524872 ]\n",
      "  [6.238192  6.3524    6.441248  ... 7.329453  7.579053  7.557485 ]\n",
      "  ...\n",
      "  [6.20264   6.237568  6.202608  ... 7.302095  7.242063  7.3557906]\n",
      "  [6.270048  6.339232  6.1888    ... 7.4885545 7.6951466 7.3430185]\n",
      "  [6.319312  6.443088  6.259568  ... 7.338101  7.597749  7.507829 ]]\n",
      "\n",
      " [[6.173552  6.420736  6.41464   ... 7.2850213 7.2767653 7.346205 ]\n",
      "  [6.210048  6.366032  6.41104   ... 7.307389  7.3564444 7.325917 ]\n",
      "  [6.254368  6.328432  6.487248  ... 7.5155478 7.5258193 7.3589396]\n",
      "  ...\n",
      "  [6.265744  6.263936  6.270416  ... 7.3813105 7.4708467 7.3175025]\n",
      "  [6.206     6.366848  6.247792  ... 7.3420134 7.5150695 7.460285 ]\n",
      "  [6.319312  6.376576  6.268752  ... 7.2920804 7.500849  7.5953126]]\n",
      "\n",
      " [[6.173552  6.420736  6.5164    ... 7.3387737 7.4408855 7.096118 ]\n",
      "  [6.341584  6.422304  6.427088  ... 7.318991  7.2245274 7.1944795]\n",
      "  [6.327152  6.50416   6.525584  ... 7.512527  7.396623  7.189263 ]\n",
      "  ...\n",
      "  [6.265744  6.325472  6.236512  ... 7.411214  7.139918  7.309262 ]\n",
      "  [6.260896  6.440496  6.374192  ... 7.130762  7.234314  7.288842 ]\n",
      "  [6.379376  6.509616  6.333072  ... 7.2610993 7.0153394 7.0834994]]\n",
      "\n",
      " ...\n",
      "\n",
      " [[5.995728  6.001552  6.16024   ... 7.1041408 7.050925  7.2453885]\n",
      "  [6.02096   6.060544  6.122288  ... 7.20649   7.216442  7.25817  ]\n",
      "  [6.12496   6.160704  6.203568  ... 7.293794  7.2239385 7.158562 ]\n",
      "  ...\n",
      "  [6.373952  6.457328  6.270416  ... 7.398243  7.411619  7.614883 ]\n",
      "  [6.30664   6.532528  6.247792  ... 7.2807055 7.204225  7.601921 ]\n",
      "  [6.269248  6.38608   6.11256   ... 7.1675224 7.1822424 7.3901787]]\n",
      "\n",
      " [[6.145472  6.110544  6.151744  ... 7.4309835 7.2505674 7.3197837]\n",
      "  [6.226496  6.221328  6.29072   ... 7.435645  7.418653  7.459709 ]\n",
      "  [6.254368  6.240576  6.310912  ... 7.460444  7.3780437 7.588028 ]\n",
      "  ...\n",
      "  [6.428048  6.633152  6.406032  ... 7.6292567 7.598921  7.7939286]\n",
      "  [6.544496  6.771856  6.424752  ... 7.682029  7.2962365 7.3541565]\n",
      "  [6.449456  6.623632  6.333072  ... 7.3991942 7.3534346 7.3552904]]\n",
      "\n",
      " [[6.182912  6.135696  6.31288   ... 7.334613  7.239381  7.362741 ]\n",
      "  [6.226496  6.2776    6.403024  ... 7.2838235 7.2607512 7.374223 ]\n",
      "  [6.254368  6.30448   6.349248  ... 7.4618344 7.220362  7.4451942]\n",
      "  ...\n",
      "  [6.635424  6.65952   6.558576  ... 7.4749775 7.4294095 7.6147532]\n",
      "  [6.571936  6.781056  6.576432  ... 7.6525006 7.6588364 7.2430925]\n",
      "  [6.5696    6.55712   6.47088   ... 7.3831124 7.3119445 7.2057047]]]\n"
     ]
    }
   ],
   "source": [
    "print(data)"
   ]
  },
  {
   "cell_type": "markdown",
   "metadata": {},
   "source": [
    "## Header - Meta Data"
   ]
  },
  {
   "cell_type": "code",
   "execution_count": 124,
   "metadata": {},
   "outputs": [
    {
     "name": "stdout",
     "output_type": "stream",
     "text": [
      "{'description': 'File imported into ENVI.', 'samples': '512', 'lines': '5120', 'bands': '256', 'header offset': '0', 'file type': 'ENVI Standard', 'data type': '4', 'interleave': 'bip', 'sensor type': 'Unknown', 'byte order': '0', 'wavelength units': 'Micrometers', 'wavelength': ['7.519890', '7.537630', '7.555470', '7.573220', '7.591070', '7.608820', '7.626670', '7.644420', '7.662280', '7.680040', '7.697900', '7.715660', '7.733530', '7.751300', '7.769170', '7.786950', '7.804830', '7.822610', '7.840390', '7.858280', '7.876070', '7.893960', '7.911750', '7.929650', '7.947440', '7.965350', '7.983150', '8.001050', '8.018860', '8.036760', '8.054570', '8.072480', '8.090290', '8.108200', '8.126020', '8.143830', '8.161740', '8.179550', '8.197460', '8.215270', '8.233190', '8.250990', '8.268900', '8.286700', '8.304610', '8.322410', '8.340300', '8.358100', '8.375990', '8.393770', '8.411650', '8.429430', '8.447200', '8.465060', '8.482820', '8.500670', '8.518420', '8.536250', '8.553980', '8.571800', '8.589510', '8.607310', '8.625000', '8.642780', '8.660440', '8.678200', '8.695840', '8.713570', '8.731180', '8.748780', '8.766470', '8.784040', '8.801690', '8.819200', '8.836900', '8.854500', '8.872200', '8.889800', '8.907500', '8.925100', '8.942800', '8.960400', '8.978100', '8.995700', '9.013400', '9.031000', '9.048600', '9.066300', '9.083900', '9.101600', '9.119200', '9.136900', '9.154500', '9.172200', '9.189800', '9.207500', '9.225100', '9.242800', '9.260400', '9.278100', '9.295700', '9.313400', '9.331000', '9.348600', '9.366300', '9.383900', '9.401600', '9.419200', '9.436900', '9.454500', '9.472200', '9.489800', '9.507500', '9.525100', '9.542800', '9.560400', '9.578100', '9.595700', '9.613400', '9.631000', '9.648600', '9.666300', '9.683900', '9.701600', '9.719200', '9.736900', '9.754500', '9.772200', '9.789800', '9.807500', '9.825100', '9.842800', '9.860400', '9.878100', '9.895700', '9.913400', '9.931000', '9.948600', '9.966300', '9.983900', '10.001600', '10.019200', '10.037000', '10.055000', '10.072000', '10.090000', '10.107000', '10.125000', '10.143000', '10.160000', '10.178000', '10.196000', '10.213000', '10.231000', '10.249000', '10.266000', '10.284000', '10.302000', '10.319000', '10.337000', '10.355000', '10.372000', '10.390000', '10.407000', '10.425000', '10.443000', '10.460000', '10.478000', '10.496000', '10.513000', '10.531000', '10.549000', '10.566000', '10.584000', '10.602000', '10.619000', '10.637000', '10.655000', '10.672000', '10.690000', '10.707000', '10.725000', '10.743000', '10.760000', '10.778000', '10.796000', '10.813000', '10.831000', '10.849000', '10.866000', '10.884000', '10.902000', '10.919000', '10.937000', '10.955000', '10.972000', '10.990000', '11.007000', '11.025000', '11.043000', '11.060000', '11.078000', '11.096000', '11.113000', '11.131000', '11.149000', '11.166000', '11.184000', '11.192000', '11.209000', '11.227000', '11.245100', '11.262100', '11.280100', '11.297100', '11.315100', '11.333100', '11.350100', '11.368000', '11.386000', '11.402900', '11.420800', '11.438700', '11.455500', '11.473300', '11.491200', '11.507900', '11.525700', '11.543400', '11.560200', '11.577900', '11.594500', '11.612200', '11.629800', '11.646400', '11.664000', '11.681500', '11.698100', '11.715600', '11.733100', '11.749700', '11.767200', '11.784600', '11.801100', '11.818600', '11.836100', '11.852600', '11.870100', '11.886600', '11.904100', '11.921600', '11.938200', '11.955800', '11.973400', '11.990000', '12.007700'], 'x': 'Wavelength', 'y': 'Brightness'}\n"
     ]
    }
   ],
   "source": [
    "print(header)"
   ]
  },
  {
   "cell_type": "markdown",
   "metadata": {},
   "source": [
    "## NFINDR algorithm to detect endmember spectra of entire image "
   ]
  },
  {
   "cell_type": "code",
   "execution_count": 125,
   "metadata": {
    "collapsed": true
   },
   "outputs": [],
   "source": [
    "def get_endmembers_nfindr(data, header):\n",
    "    print('Endmembers extraction with NFINDR')\n",
    "    nfindr = eea.NFINDR()\n",
    "    U = nfindr.extract(data, 2, maxit=5, normalize=True, ATGP_init=True)\n",
    "    nfindr.display(header, suffix='Cuprite Endmembers')\n",
    "    return U"
   ]
  },
  {
   "cell_type": "markdown",
   "metadata": {},
   "source": [
    "## Define Spatial Cut Functions"
   ]
  },
  {
   "cell_type": "code",
   "execution_count": 53,
   "metadata": {
    "collapsed": true
   },
   "outputs": [],
   "source": [
    "del_arr = []\n",
    "del_arr_Y =[]"
   ]
  },
  {
   "cell_type": "code",
   "execution_count": 54,
   "metadata": {
    "collapsed": true
   },
   "outputs": [],
   "source": [
    "def array_cut_Y(X,Y):\n",
    "    for i in range(X,Y):\n",
    "        del_arr_Y.append(i)\n",
    "    return del_arr_Y"
   ]
  },
  {
   "cell_type": "code",
   "execution_count": 55,
   "metadata": {
    "collapsed": true
   },
   "outputs": [],
   "source": [
    "def array_cut(X,Y):\n",
    "    for i in range(X,Y):\n",
    "        del_arr.append(i)\n",
    "    return del_arr"
   ]
  },
  {
   "cell_type": "markdown",
   "metadata": {},
   "source": [
    "## Assign data to holder variable"
   ]
  },
  {
   "cell_type": "code",
   "execution_count": 45,
   "metadata": {
    "collapsed": true
   },
   "outputs": [],
   "source": [
    "before_cut = data"
   ]
  },
  {
   "cell_type": "markdown",
   "metadata": {},
   "source": [
    "## Cut along X dimension "
   ]
  },
  {
   "cell_type": "code",
   "execution_count": 60,
   "metadata": {
    "collapsed": true
   },
   "outputs": [],
   "source": [
    "del_arr = array_cut(0,3912)"
   ]
  },
  {
   "cell_type": "code",
   "execution_count": 61,
   "metadata": {
    "collapsed": true
   },
   "outputs": [],
   "source": [
    "del_arr = array_cut(4221,5120)"
   ]
  },
  {
   "cell_type": "code",
   "execution_count": 25,
   "metadata": {
    "collapsed": true
   },
   "outputs": [],
   "source": [
    "after_cut = np.delete(before_cut,del_arr,0)"
   ]
  },
  {
   "cell_type": "code",
   "execution_count": 27,
   "metadata": {
    "collapsed": true
   },
   "outputs": [],
   "source": [
    "#im=np.delete(im,del_arr,0)"
   ]
  },
  {
   "cell_type": "code",
   "execution_count": 58,
   "metadata": {
    "collapsed": true
   },
   "outputs": [],
   "source": [
    "CMF2 = np.delete(CMF2,del_arr,0)"
   ]
  },
  {
   "cell_type": "code",
   "execution_count": 50,
   "metadata": {},
   "outputs": [
    {
     "data": {
      "text/plain": [
       "(309, 512, 3)"
      ]
     },
     "execution_count": 50,
     "metadata": {},
     "output_type": "execute_result"
    }
   ],
   "source": [
    "im.shape"
   ]
  },
  {
   "cell_type": "code",
   "execution_count": 86,
   "metadata": {},
   "outputs": [
    {
     "data": {
      "text/plain": [
       "(309, 512, 256)"
      ]
     },
     "execution_count": 86,
     "metadata": {},
     "output_type": "execute_result"
    }
   ],
   "source": [
    "after_cut.shape"
   ]
  },
  {
   "cell_type": "code",
   "execution_count": 59,
   "metadata": {},
   "outputs": [
    {
     "data": {
      "text/plain": [
       "(5120, 512)"
      ]
     },
     "execution_count": 59,
     "metadata": {},
     "output_type": "execute_result"
    }
   ],
   "source": [
    "CMF2.shape"
   ]
  },
  {
   "cell_type": "markdown",
   "metadata": {},
   "source": [
    "## Cut along Y dimension "
   ]
  },
  {
   "cell_type": "code",
   "execution_count": 51,
   "metadata": {
    "collapsed": true
   },
   "outputs": [],
   "source": [
    "del_arr_1 = array_cut_Y(270,512)"
   ]
  },
  {
   "cell_type": "code",
   "execution_count": 88,
   "metadata": {
    "collapsed": true
   },
   "outputs": [],
   "source": [
    "after_cut_1 = np.delete(after_cut,del_arr_1,1)"
   ]
  },
  {
   "cell_type": "code",
   "execution_count": 52,
   "metadata": {
    "collapsed": true
   },
   "outputs": [],
   "source": [
    "im=np.delete(im,del_arr_Y,1)"
   ]
  },
  {
   "cell_type": "code",
   "execution_count": 30,
   "metadata": {
    "collapsed": true
   },
   "outputs": [],
   "source": [
    "CMF2=np.delete(CMF2,del_arr_Y,1)"
   ]
  },
  {
   "cell_type": "code",
   "execution_count": 89,
   "metadata": {},
   "outputs": [
    {
     "data": {
      "text/plain": [
       "(309, 270, 256)"
      ]
     },
     "execution_count": 89,
     "metadata": {},
     "output_type": "execute_result"
    }
   ],
   "source": [
    "after_cut_1.shape"
   ]
  },
  {
   "cell_type": "code",
   "execution_count": 53,
   "metadata": {},
   "outputs": [
    {
     "data": {
      "text/plain": [
       "(309, 270, 3)"
      ]
     },
     "execution_count": 53,
     "metadata": {},
     "output_type": "execute_result"
    }
   ],
   "source": [
    "im.shape"
   ]
  },
  {
   "cell_type": "code",
   "execution_count": 31,
   "metadata": {},
   "outputs": [
    {
     "data": {
      "text/plain": [
       "(309, 512)"
      ]
     },
     "execution_count": 31,
     "metadata": {},
     "output_type": "execute_result"
    }
   ],
   "source": [
    "CMF2.shape"
   ]
  },
  {
   "cell_type": "code",
   "execution_count": 32,
   "metadata": {},
   "outputs": [
    {
     "data": {
      "text/plain": [
       "ImageView object:\n",
       "  Display bands       :  [0]\n",
       "  Interpolation       :  <default>\n",
       "  RGB data limits     :\n",
       "    R: [0.0, 1.0]\n",
       "    G: [0.0, 1.0]\n",
       "    B: [0.0, 1.0]"
      ]
     },
     "execution_count": 32,
     "metadata": {},
     "output_type": "execute_result"
    },
    {
     "data": {
      "image/png": "[encoded data removed]",
      "text/plain": [
       "<matplotlib.figure.Figure at 0x11491a748>"
      ]
     },
     "metadata": {},
     "output_type": "display_data"
    }
   ],
   "source": [
    "imshow(CMF2)"
   ]
  },
  {
   "cell_type": "markdown",
   "metadata": {},
   "source": [
    "## Save array after Spatial Removal "
   ]
  },
  {
   "cell_type": "code",
   "execution_count": 8,
   "metadata": {
    "collapsed": true
   },
   "outputs": [],
   "source": [
    "np.save('cutarray.npy',after_cut_1)"
   ]
  },
  {
   "cell_type": "code",
   "execution_count": 55,
   "metadata": {
    "collapsed": true
   },
   "outputs": [],
   "source": [
    "np.save('cutGT.npy',im)"
   ]
  },
  {
   "cell_type": "code",
   "execution_count": 33,
   "metadata": {
    "collapsed": true
   },
   "outputs": [],
   "source": [
    "np.save('GroundTruth_CMF2.npy',CMF2)"
   ]
  }
 ],
 "metadata": {
  "kernelspec": {
   "display_name": "Python 3",
   "language": "python",
   "name": "python3"
  },
  "language_info": {
   "codemirror_mode": {
    "name": "ipython",
    "version": 3
   },
   "file_extension": ".py",
   "mimetype": "text/x-python",
   "name": "python",
   "nbconvert_exporter": "python",
   "pygments_lexer": "ipython3",
   "version": "3.6.3"
  }
 },
 "nbformat": 4,
 "nbformat_minor": 2
}
