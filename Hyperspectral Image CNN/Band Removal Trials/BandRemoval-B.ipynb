{
 "cells": [
  {
   "cell_type": "code",
   "execution_count": 1,
   "metadata": {
    "collapsed": true
   },
   "outputs": [],
   "source": [
    "from spectral import *\n",
    "import numpy as np \n",
    "import matplotlib.pyplot as plt \n",
    "import spectral.io.envi as envi\n",
    "\n",
    "import pysptools.util as util\n",
    "import pysptools.eea as eea\n",
    "import pysptools.abundance_maps as amp\n",
    "import pysptools.classification as cls\n",
    "import pysptools.noise as ns\n",
    "import pysptools.skl as skl\n",
    "\n",
    "import timeit"
   ]
  },
  {
   "cell_type": "code",
   "execution_count": 2,
   "metadata": {},
   "outputs": [
    {
     "name": "stderr",
     "output_type": "stream",
     "text": [
      "/Users/aravind/anaconda3/lib/python3.6/site-packages/spectral/io/envi.py:195: UserWarning: Parameters with non-lowercase names encountered and converted to lowercase. To retain source file parameter name capitalization, set spectral.setttings.envi_support_nonlowercase_params to True.\n",
      "  warnings.warn(msg)\n"
     ]
    },
    {
     "name": "stdout",
     "output_type": "stream",
     "text": [
      "Header parameter names converted to lower case.\n",
      "Header parameter names converted to lower case.\n"
     ]
    }
   ],
   "source": [
    "data, header = util.load_ENVI_file('Burner.hdr')"
   ]
  },
  {
   "cell_type": "code",
   "execution_count": 3,
   "metadata": {},
   "outputs": [
    {
     "data": {
      "text/plain": [
       "(128, 128, 165)"
      ]
     },
     "execution_count": 3,
     "metadata": {},
     "output_type": "execute_result"
    }
   ],
   "source": [
    "data.shape"
   ]
  },
  {
   "cell_type": "code",
   "execution_count": 4,
   "metadata": {
    "collapsed": true
   },
   "outputs": [],
   "source": [
    "max_rows_index = 127\n",
    "max_column_index = 127\n",
    "max_spectral_index = 164 "
   ]
  },
  {
   "cell_type": "code",
   "execution_count": 5,
   "metadata": {
    "collapsed": true
   },
   "outputs": [],
   "source": [
    "def test_functions(data, header):\n",
    "    startTime = timeit.default_timer()\n",
    "    print('Endmembers extraction with NFINDR')\n",
    "    nfindr = eea.NFINDR()\n",
    "    U = nfindr.extract(data, 5, maxit=5, normalize=True, ATGP_init=True)\n",
    "    print('Abundance maps generation with NNLS')\n",
    "    nnls = amp.NNLS()\n",
    "    amaps = nnls.map(data, U, normalize=True)\n",
    "    #nnls.display(colorMap='jet', columns=3, suffix='Cuprite')\n",
    "    print('Abundance maps generation with UCLS')\n",
    "    ucls = amp.UCLS()\n",
    "    amaps = ucls.map(data, U, normalize=True)\n",
    "    #ucls.display(colorMap='jet', columns=3, suffix='Cuprite')\n",
    "    km = skl.KMeans()\n",
    "    km.predict(data, 4)\n",
    "    #km.display(interpolation='none', colorMap='Accent', suffix='Cuprite')\n",
    "    elapsedTime = timeit.default_timer() - startTime\n",
    "    return elapsedTime\n",
    "\n",
    "#before_time = test_functions(data,header)"
   ]
  },
  {
   "cell_type": "code",
   "execution_count": 6,
   "metadata": {
    "collapsed": true
   },
   "outputs": [],
   "source": [
    "def correlation_coefficient(T1, T2):\n",
    "    numerator = np.mean((T1 - T1.mean()) * (T2 - T2.mean()))\n",
    "    denominator = T1.std() * T2.std()\n",
    "    if denominator == 0:\n",
    "        return 0\n",
    "    else:\n",
    "        result = numerator / denominator\n",
    "        return result"
   ]
  },
  {
   "cell_type": "code",
   "execution_count": 7,
   "metadata": {
    "scrolled": true
   },
   "outputs": [
    {
     "name": "stdout",
     "output_type": "stream",
     "text": [
      "0 1\n",
      "1 2\n",
      "2 3\n",
      "3 4\n",
      "4 5\n",
      "5 6\n",
      "6 7\n",
      "7 8\n",
      "8 9\n",
      "9 10\n",
      "10 11\n",
      "11 12\n",
      "12 13\n",
      "13 14\n",
      "14 15\n",
      "15 16\n",
      "16 17\n",
      "17 18\n",
      "18 19\n",
      "19 20\n",
      "20 21\n",
      "21 22\n",
      "22 23\n",
      "23 24\n",
      "24 25\n",
      "25 26\n",
      "26 27\n",
      "27 28\n",
      "28 29\n",
      "29 30\n"
     ]
    }
   ],
   "source": [
    "def remove_bands(X,Y):\n",
    "    mask = list(range(X, Y))\n",
    "    REM_ARRAY = np.delete(data, mask, 2)\n",
    "    return REM_ARRAY\n",
    "\n",
    "cutoff = 30\n",
    "X = remove_bands(cutoff,max_spectral_index)\n",
    "Y = X.transpose(2,0,1).reshape(cutoff+1,(max_rows_index+1)*(max_column_index+1))\n",
    "\n",
    "for band_i in range(0,cutoff):\n",
    "    band_j = band_i+1\n",
    "    cf = correlation_coefficient(Y[band_i],Y[band_j])\n",
    "    if(cf>=0.96):\n",
    "        print(band_i,band_j)\n",
    "\n",
    "#after_time = test_functions(X,header)\n",
    "\n",
    "def time_metric():\n",
    "    print('Time before removal: ',before_time)\n",
    "    print('Time after removal: ',after_time)\n",
    "\n",
    "#time_metric()\n",
    "\n",
    "def size_comparison():\n",
    "    new_max_spectral_index = X[0][0].size\n",
    "    old_load_size_gb = (4*max_rows_index*max_column_index*max_spectral_index/(1024*1024*1024))\n",
    "    new_load_size_gb = (4*max_rows_index*max_column_index*new_max_spectral_index/(1024*1024*1024))\n",
    "    old_load_size_mb = (4*max_rows_index*max_column_index*max_spectral_index/(1024*1024))\n",
    "    new_load_size_mb = (4*max_rows_index*max_column_index*new_max_spectral_index/(1024*1024))\n",
    "    s = [max_spectral_index,new_max_spectral_index]\n",
    "    l = [old_load_size_mb,new_load_size_mb]\n",
    "    PERC_DEC = (old_load_size_mb - new_load_size_mb)*100/old_load_size_mb\n",
    "    print(\"Old vs. New load size(GB):\")\n",
    "    print(old_load_size_gb,new_load_size_gb)\n",
    "    print(\"Reduction in size(GB):\")\n",
    "    print(old_load_size_gb-new_load_size_gb)\n",
    "    print(\"Old vs. New load size(MB):\")\n",
    "    print(old_load_size_mb,new_load_size_mb)\n",
    "    print(\"Reduction in size(MB):\")\n",
    "    print(old_load_size_mb-new_load_size_mb)\n",
    "    print('Percentage Decrease in Size:',PERC_DEC)\n",
    "    plt.plot(s, l)\n",
    "    plt.xlabel('No of spectral bands (S)')\n",
    "    plt.ylabel('Load Size (MB)')\n",
    "    plt.title('Band vs. Size')\n",
    "    plt.grid(True)\n",
    "    plt.savefig(\"spec1.png\")\n",
    "    plt.show()\n",
    "    \n",
    "#size_comparison()"
   ]
  },
  {
   "cell_type": "code",
   "execution_count": 10,
   "metadata": {},
   "outputs": [
    {
     "name": "stdout",
     "output_type": "stream",
     "text": [
      "Dimensions after removing irrelevant bands (128, 128, 31)\n"
     ]
    }
   ],
   "source": [
    "print('Dimensions after removing irrelevant bands', X.shape)\n",
    "\n",
    "\n",
    "#Correlation Band Removal \n",
    "\n"
   ]
  },
  {
   "cell_type": "code",
   "execution_count": 7,
   "metadata": {},
   "outputs": [
    {
     "name": "stdout",
     "output_type": "stream",
     "text": [
      "Old vs. New load size(GB):\n",
      "5.0 3.90625\n",
      "Reduction in size(GB):\n",
      "1.09375\n",
      "Percentage Decrease in Size: 21.875\n",
      "Old vs. New load size(GB):\n",
      "5.0 2.9296875\n",
      "Reduction in size(GB):\n",
      "2.0703125\n",
      "Percentage Decrease in Size: 41.40625\n",
      "Old vs. New load size(GB):\n",
      "5.0 1.953125\n",
      "Reduction in size(GB):\n",
      "3.046875\n",
      "Percentage Decrease in Size: 60.9375\n",
      "Old vs. New load size(GB):\n",
      "5.0 0.9765625\n",
      "Reduction in size(GB):\n",
      "4.0234375\n",
      "Percentage Decrease in Size: 80.46875\n",
      "Old vs. New load size(GB):\n",
      "5.0 0.5859375\n",
      "Reduction in size(GB):\n",
      "4.4140625\n",
      "Percentage Decrease in Size: 88.28125\n"
     ]
    },
    {
     "data": {
      "image/png": "[encoded data removed]",
      "text/plain": [
       "<matplotlib.figure.Figure at 0x1c149a40b8>"
      ]
     },
     "metadata": {},
     "output_type": "display_data"
    }
   ],
   "source": [
    "def hytes_size_comparison():\n",
    "    old_load_size_gb   = (4*10240*512*256/(1024*1024*1024))\n",
    "    new_load_size_gb_1 = (4*10240*512*200/(1024*1024*1024))\n",
    "    new_load_size_gb_2 = (4*10240*512*150/(1024*1024*1024))\n",
    "    new_load_size_gb_3 = (4*10240*512*100/(1024*1024*1024))\n",
    "    new_load_size_gb_4 = (4*10240*512*50/(1024*1024*1024))\n",
    "    new_load_size_gb_5 = (4*10240*512*30/(1024*1024*1024))\n",
    "    s = [256,200,150,100,50,30]\n",
    "    l = [old_load_size_gb,new_load_size_gb_1,new_load_size_gb_2,new_load_size_gb_3,new_load_size_gb_4,new_load_size_gb_5]\n",
    "    for i in range(1,6):\n",
    "        print(\"Old vs. New load size(GB):\")\n",
    "        print(l[0],l[i])\n",
    "        print(\"Reduction in size(GB):\")\n",
    "        print(l[0]-l[i])\n",
    "        PERC_DEC = (l[0] - l[i])*100/l[0]\n",
    "        print('Percentage Decrease in Size:',PERC_DEC)\n",
    "    plt.plot(s, l)\n",
    "    plt.xlabel('No of spectral bands (S)')\n",
    "    plt.ylabel('Load Size (GB)')\n",
    "    plt.title('HyTES Decrease')\n",
    "    plt.grid(True)\n",
    "    plt.savefig(\"HyComparison.png\")\n",
    "    plt.show()\n",
    "\n",
    "#hytes_size_comparison()"
   ]
  }
 ],
 "metadata": {
  "kernelspec": {
   "display_name": "Python 3",
   "language": "python",
   "name": "python3"
  },
  "language_info": {
   "codemirror_mode": {
    "name": "ipython",
    "version": 3
   },
   "file_extension": ".py",
   "mimetype": "text/x-python",
   "name": "python",
   "nbconvert_exporter": "python",
   "pygments_lexer": "ipython3",
   "version": "3.6.3"
  }
 },
 "nbformat": 4,
 "nbformat_minor": 2
}
